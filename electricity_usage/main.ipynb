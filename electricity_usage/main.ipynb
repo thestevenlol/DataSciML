{
 "cells": [
  {
   "cell_type": "markdown",
   "metadata": {},
   "source": [
    "# Household Power Consumption\n",
    "\n",
    "## Disclaimer\n",
    "\n",
    "AI (ChatGPT) was user to help write this project, for both code and documentation. Any code generated has been studied, and any documentation has been verified.\n",
    "\n",
    "### Dataset Download and Setup\n",
    "\n",
    "Please download the dataset from [here](https://archive.ics.uci.edu/dataset/235/individual+household+electric+power+consumption) and extract the .txt file into the `electricity_usage` folder (where `main.ipynb` is located).\n",
    "\n",
    "### About the Dataset\n",
    "\n",
    "This dataset has taken \"measurements of electric power consumption in one household with a one-minute sampling rate over a period of almost 4 years.\"\n",
    "\n",
    "The original format is in a `.txt` file, but should be easy enough to convert to something more workable like a `.csv` file.\n",
    "\n",
    "The current headings are as follows:\n",
    "1. date: Date in format dd/mm/yyyy\n",
    "2. time: time in format hh:mm:ss\n",
    "3. global_active_power: household global minute-averaged active power (in kilowatt)\n",
    "4. global_reactive_power: household global minute-averaged reactive power (in kilowatt)\n",
    "5. voltage: minute-averaged voltage (in volt)\n",
    "6. global_intensity: household global minute-averaged current intensity (in ampere)\n",
    "7. sub_metering_1: energy sub-metering No. 1 (in watt-hour of active energy). It corresponds to the kitchen, containing mainly a dishwasher, an oven and a microwave (hot plates are not electric but gas powered).\n",
    "8. sub_metering_2: energy sub-metering No. 2 (in watt-hour of active energy). It corresponds to the laundry room, containing a washing-machine, a tumble-drier, a refrigerator and a light.\n",
    "9. sub_metering_3: energy sub-metering No. 3 (in watt-hour of active energy). It corresponds to an electric water-heater and an air-conditioner.\n",
    "\n",
    "I am not entirely sure what the difference between **active** and **reactive** power is, and I cannot seem to find any documentation about it from the dataset source.\n",
    "\n",
    "It could be assumed that the true total electricity usage is as follows: \n",
    "> `total_consumption = global_active_power + sub_metering_1 + sub_metering_2 + sub_metering_3`\n",
    "\n",
    "### What can we do with this data?\n",
    "\n",
    "Looking at the dataset, we could make predictions about whether or not we can expect higher power consumpution at a certain date and time. For example, you would probably use more power at 5PM in January vs. 6AM in August. We could make a simple decision tree model to make these predictions."
   ]
  },
  {
   "cell_type": "code",
   "execution_count": 1,
   "metadata": {},
   "outputs": [
    {
     "name": "stdout",
     "output_type": "stream",
     "text": [
      "Successfully loaded the data into a pandas dataframe!\n"
     ]
    }
   ],
   "source": [
    "import pandas as pd\n",
    "import numpy as np\n",
    "\n",
    "\"\"\" \n",
    "\n",
    "Here I am trying to load the data from the file 'household_power_consumption.txt' into a pandas dataframe.\n",
    "Since it is a .txt file, I am using the read_csv method of pandas to read the file and specifying the separator as ';'. I also specify the na_values as ['?', ''] to replace the missing values with NaN.\n",
    "\n",
    "\"\"\"\n",
    "\n",
    "try:\n",
    "    df = pd.read_csv('household_power_consumption.txt', sep=';', na_values=['?', ''])\n",
    "    print(\"Successfully loaded the data into a pandas dataframe!\")\n",
    "except FileNotFoundError:\n",
    "    print('File not found')\n",
    "    exit()"
   ]
  },
  {
   "cell_type": "markdown",
   "metadata": {},
   "source": [
    "That seems to have worked, now I want to convert all of the column headers to lowercase. \n",
    "\n",
    "Next Steps:\n",
    "1. I want to convert the date and time columns into a datetime object and drop the original date and time columns.\n",
    "2. Using this new datetime object, create the new `year`, `month`, `day`, `hour`, `day_of_week` and `quarter` features.\n",
    "3. Create the `total_consumption` feature. "
   ]
  },
  {
   "cell_type": "code",
   "execution_count": 2,
   "metadata": {},
   "outputs": [
    {
     "data": {
      "text/plain": [
       "Index(['global_active_power', 'global_reactive_power', 'voltage',\n",
       "       'global_intensity', 'sub_metering_1', 'sub_metering_2',\n",
       "       'sub_metering_3', 'date_time', 'year', 'month', 'day', 'hour',\n",
       "       'day_of_week', 'quarter', 'total_consumption'],\n",
       "      dtype='object')"
      ]
     },
     "execution_count": 2,
     "metadata": {},
     "output_type": "execute_result"
    }
   ],
   "source": [
    "# Convert all column headers to lowercase\n",
    "df.columns = [col.lower() for col in df.columns]\n",
    "\n",
    "# Convert date and time columns\n",
    "df['date_time'] = pd.to_datetime(df['date'] + ' ' + df['time'], format='%d/%m/%Y %H:%M:%S', errors='coerce')\n",
    "\n",
    "# Drop the original date and time columns\n",
    "df = df.drop(['date', 'time'], axis=1)\n",
    "\n",
    "# Handle missing values\n",
    "df = df.replace({np.nan: 0})\n",
    "\n",
    "# Creating new features from datetime object\n",
    "df['year'] = df['date_time'].dt.year\n",
    "df['month'] = df['date_time'].dt.month\n",
    "df['day'] = df['date_time'].dt.day\n",
    "df['hour'] = df['date_time'].dt.hour\n",
    "df['day_of_week'] = df['date_time'].dt.dayofweek  # Monday=0, Sunday=6\n",
    "df['quarter'] = df['date_time'].dt.quarter\n",
    "\n",
    "# Calculate total consumption\n",
    "df['total_consumption'] = df['global_active_power'] + df['sub_metering_1'] + df['sub_metering_2'] + df['sub_metering_3']\n",
    "\n",
    "df.columns"
   ]
  },
  {
   "cell_type": "markdown",
   "metadata": {},
   "source": [
    "The next step is to create the consumption categories of low, medium and high."
   ]
  },
  {
   "cell_type": "code",
   "execution_count": 3,
   "metadata": {},
   "outputs": [
    {
     "name": "stdout",
     "output_type": "stream",
     "text": [
      "   global_active_power  global_reactive_power  voltage  global_intensity  \\\n",
      "0                4.216                  0.418   234.84              18.4   \n",
      "1                5.360                  0.436   233.63              23.0   \n",
      "2                5.374                  0.498   233.29              23.0   \n",
      "3                5.388                  0.502   233.74              23.0   \n",
      "4                3.666                  0.528   235.68              15.8   \n",
      "\n",
      "   sub_metering_1  sub_metering_2  sub_metering_3           date_time  year  \\\n",
      "0             0.0             1.0            17.0 2006-12-16 17:24:00  2006   \n",
      "1             0.0             1.0            16.0 2006-12-16 17:25:00  2006   \n",
      "2             0.0             2.0            17.0 2006-12-16 17:26:00  2006   \n",
      "3             0.0             1.0            17.0 2006-12-16 17:27:00  2006   \n",
      "4             0.0             1.0            17.0 2006-12-16 17:28:00  2006   \n",
      "\n",
      "   month  day  hour  day_of_week  quarter  total_consumption  \\\n",
      "0     12   16    17            5        4             22.216   \n",
      "1     12   16    17            5        4             22.360   \n",
      "2     12   16    17            5        4             24.374   \n",
      "3     12   16    17            5        4             23.388   \n",
      "4     12   16    17            5        4             21.666   \n",
      "\n",
      "  consumption_category  \n",
      "0                 high  \n",
      "1                 high  \n",
      "2                 high  \n",
      "3                 high  \n",
      "4                 high  \n",
      "consumption_category\n",
      "medium    1037622\n",
      "high       519124\n",
      "low        518513\n",
      "Name: count, dtype: int64\n"
     ]
    }
   ],
   "source": [
    "consumption_stats = df['total_consumption'].describe()\n",
    "low_threshold = consumption_stats['25%']\n",
    "high_threshold = consumption_stats['75%']\n",
    "\n",
    "def categorize_consumption(consumption):\n",
    "    if consumption < low_threshold:\n",
    "        return 'low'\n",
    "    elif consumption < high_threshold:\n",
    "        return 'medium'\n",
    "    else:\n",
    "        return 'high'\n",
    "\n",
    "df['consumption_category'] = df['total_consumption'].apply(categorize_consumption)\n",
    "\n",
    "consumption_counts = df['consumption_category'].value_counts()\n",
    "print(df.head())\n",
    "print(consumption_counts)"
   ]
  },
  {
   "cell_type": "markdown",
   "metadata": {},
   "source": [
    "## Data Preprocessing\n",
    "\n",
    "- Converted datetime features to numerical (year, month, day)\n",
    "- Dropped original datetime columns\n",
    "- Converted all features to float type\n",
    "\n",
    "## Feature Engineering\n",
    "\n",
    "- Removed 'consumption_category' and 'total_consumption' from features\n",
    "- Used vectorized operations for datetime processing\n",
    "\n",
    "## Model Configuration\n",
    "\n",
    "Reduced complexity with:\n",
    "1. Added class balancing with class_weight='balanced'\n",
    "2. Enabled parallel processing with n_jobs=-1\n",
    "\n",
    "## Final Results\n",
    "\n",
    "- Achieved 0.87 precision and 0.99 recall for 'high' class.\n",
    "- Achieved 0.99 precision and 1.00 recall for 'low' class.\n",
    "- Achieved 1.00 precision and 0.92 recall for 'medium' class.\n",
    "\n",
    "Attempts were made to lower some precision for 'medium', and lower precision and recall for 'low' but unfortunately I was not able to find a method to do so within the time frame I had. One observation I did notice however is that the number of 'medium' instances is roughly 2x the number of high and low classes. Below is the classification report and the confusion matrix."
   ]
  },
  {
   "cell_type": "code",
   "execution_count": null,
   "metadata": {},
   "outputs": [
    {
     "name": "stdout",
     "output_type": "stream",
     "text": [
      "Data types before conversion:\n",
      "global_active_power             float64\n",
      "global_reactive_power           float64\n",
      "voltage                         float64\n",
      "global_intensity                float64\n",
      "sub_metering_1                  float64\n",
      "sub_metering_2                  float64\n",
      "sub_metering_3                  float64\n",
      "date_time                datetime64[ns]\n",
      "year                              int32\n",
      "month                             int32\n",
      "day                               int32\n",
      "hour                              int32\n",
      "day_of_week                       int32\n",
      "quarter                           int32\n",
      "total_consumption               float64\n",
      "consumption_category             object\n",
      "dtype: object\n",
      "\n",
      "Classification Report:\n",
      "              precision    recall  f1-score   support\n",
      "\n",
      "        high       0.87      0.99      0.92    104163\n",
      "         low       0.99      1.00      0.99    103561\n",
      "      medium       1.00      0.92      0.95    207328\n",
      "\n",
      "    accuracy                           0.96    415052\n",
      "   macro avg       0.95      0.97      0.96    415052\n",
      "weighted avg       0.96      0.96      0.96    415052\n",
      "\n",
      "\n",
      "Top 10 Important Features:\n",
      "                  feature  importance\n",
      "6          sub_metering_3    0.311440\n",
      "0     global_active_power    0.303259\n",
      "3        global_intensity    0.176546\n",
      "5          sub_metering_2    0.117230\n",
      "1   global_reactive_power    0.023041\n",
      "4          sub_metering_1    0.020597\n",
      "10                   hour    0.016426\n",
      "13         date_time_year    0.011656\n",
      "7                    year    0.007746\n",
      "2                 voltage    0.006358\n"
     ]
    }
   ],
   "source": [
    "from sklearn.model_selection import train_test_split\n",
    "from sklearn.ensemble import RandomForestClassifier\n",
    "from sklearn.metrics import classification_report\n",
    "\n",
    "# Check data types\n",
    "print(\"Data types before conversion:\")\n",
    "print(df.dtypes)\n",
    "\n",
    "# Vectorized datetime conversion\n",
    "datetime_columns = df.select_dtypes(include=['datetime64']).columns\n",
    "for col in datetime_columns:\n",
    "    # Create all date features at once using vectorized operations\n",
    "    # Vectorized operations are preferred here because they are more efficient and faster than applying functions row by row.\n",
    "    # This is especially important when dealing with large datasets, as it significantly reduces the computation time.\n",
    "    # See more here: https://pythonspeed.com/articles/pandas-vectorization/\n",
    "    df = df.assign(**{\n",
    "        f'{col}_year': df[col].dt.year,\n",
    "        f'{col}_month': df[col].dt.month,\n",
    "        f'{col}_day': df[col].dt.day\n",
    "    })\n",
    "\n",
    "# Drop original datetime columns all at once\n",
    "df = df.drop(columns=datetime_columns)\n",
    "\n",
    "# Prepare features (X) and target (y)\n",
    "X = df.drop(['consumption_category', 'total_consumption'], axis=1)  # All columns except target (consumption_category)\n",
    "y = df['consumption_category'] # Target column\n",
    "\n",
    "# Convert all features to float\n",
    "X = X.astype(float)\n",
    "\n",
    "# Split data\n",
    "X_train, X_test, y_train, y_test = train_test_split(X, y, test_size=0.2, random_state=42)\n",
    "\n",
    "# Initialize model with anti-overfitting parameters\n",
    "rf_model = RandomForestClassifier(\n",
    "    n_estimators=50,  # Reduced number of trees\n",
    "    max_depth=5,      # Reduced depth\n",
    "    min_samples_split=20,  # Increased min samples to split\n",
    "    min_samples_leaf=10,   # Increased min samples per leaf\n",
    "    max_features='sqrt',   # Restrict features per split\n",
    "    random_state=42,\n",
    "    n_jobs=-1,\n",
    "    class_weight='balanced'\n",
    ")\n",
    "\n",
    "# Train model\n",
    "rf_model.fit(X_train, y_train)\n",
    "\n",
    "# Evaluate\n",
    "y_pred = rf_model.predict(X_test)\n",
    "print(\"\\nClassification Report:\")\n",
    "print(classification_report(y_test, y_pred))\n",
    "\n",
    "# Feature importance\n",
    "feature_importance = pd.DataFrame({\n",
    "    'feature': X.columns,\n",
    "    'importance': rf_model.feature_importances_\n",
    "}).sort_values('importance', ascending=False)\n",
    "print(\"\\nTop 10 Important Features:\")\n",
    "print(feature_importance.head(10))"
   ]
  },
  {
   "cell_type": "code",
   "execution_count": 5,
   "metadata": {},
   "outputs": [
    {
     "data": {
      "image/png": "[encoded data removed]",
      "text/plain": [
       "<Figure size 1000x700 with 2 Axes>"
      ]
     },
     "metadata": {},
     "output_type": "display_data"
    }
   ],
   "source": [
    "from sklearn.metrics import confusion_matrix\n",
    "import seaborn as sns\n",
    "import matplotlib.pyplot as plt\n",
    "\n",
    "# Confusion matrix\n",
    "conf_matrix = confusion_matrix(y_test, y_pred)\n",
    "\n",
    "# Pretty print with seaborn\n",
    "plt.figure(figsize=(10, 7))\n",
    "sns.heatmap(conf_matrix, annot=True, fmt='d', cmap='Blues', xticklabels=rf_model.classes_, yticklabels=rf_model.classes_)\n",
    "plt.xlabel('Predicted')\n",
    "plt.ylabel('Actual')\n",
    "plt.title('Confusion Matrix')\n",
    "plt.show()"
   ]
  },
  {
   "cell_type": "code",
   "execution_count": null,
   "metadata": {},
   "outputs": [
    {
     "name": "stderr",
     "output_type": "stream",
     "text": [
      "/home/jack/College/DataSciML/.venv/lib/python3.11/site-packages/sklearn/base.py:493: UserWarning: X does not have valid feature names, but RandomForestClassifier was fitted with feature names\n",
      "  warnings.warn(\n"
     ]
    },
    {
     "ename": "ValueError",
     "evalue": "Expected a 2-dimensional container but got <class 'pandas.core.series.Series'> instead. Pass a DataFrame containing a single row (i.e. single sample) or a single column (i.e. single feature) instead.",
     "output_type": "error",
     "traceback": [
      "\u001b[0;31m---------------------------------------------------------------------------\u001b[0m",
      "\u001b[0;31mValueError\u001b[0m                                Traceback (most recent call last)",
      "Cell \u001b[0;32mIn[9], line 19\u001b[0m\n\u001b[1;32m      2\u001b[0m sample_data \u001b[38;5;241m=\u001b[39m pd\u001b[38;5;241m.\u001b[39mSeries({\n\u001b[1;32m      3\u001b[0m     \u001b[38;5;124m'\u001b[39m\u001b[38;5;124mglobal_active_power\u001b[39m\u001b[38;5;124m'\u001b[39m: \u001b[38;5;241m1.0\u001b[39m,\n\u001b[1;32m      4\u001b[0m     \u001b[38;5;124m'\u001b[39m\u001b[38;5;124mglobal_reactive_power\u001b[39m\u001b[38;5;124m'\u001b[39m: \u001b[38;5;241m0.0\u001b[39m,\n\u001b[0;32m   (...)\u001b[0m\n\u001b[1;32m     15\u001b[0m     \u001b[38;5;124m'\u001b[39m\u001b[38;5;124mquarter\u001b[39m\u001b[38;5;124m'\u001b[39m: \u001b[38;5;241m4\u001b[39m\n\u001b[1;32m     16\u001b[0m })\n\u001b[1;32m     18\u001b[0m \u001b[38;5;66;03m# Predict\u001b[39;00m\n\u001b[0;32m---> 19\u001b[0m predictions \u001b[38;5;241m=\u001b[39m \u001b[43mrf_model\u001b[49m\u001b[38;5;241;43m.\u001b[39;49m\u001b[43mpredict\u001b[49m\u001b[43m(\u001b[49m\u001b[43msample_data\u001b[49m\u001b[43m)\u001b[49m\n\u001b[1;32m     20\u001b[0m \u001b[38;5;28mprint\u001b[39m(\u001b[38;5;124m\"\u001b[39m\u001b[38;5;130;01m\\n\u001b[39;00m\u001b[38;5;124mPredictions:\u001b[39m\u001b[38;5;124m\"\u001b[39m)\n\u001b[1;32m     21\u001b[0m \u001b[38;5;28mprint\u001b[39m(predictions)\n",
      "File \u001b[0;32m~/College/DataSciML/.venv/lib/python3.11/site-packages/sklearn/ensemble/_forest.py:904\u001b[0m, in \u001b[0;36mForestClassifier.predict\u001b[0;34m(self, X)\u001b[0m\n\u001b[1;32m    883\u001b[0m \u001b[38;5;28;01mdef\u001b[39;00m \u001b[38;5;21mpredict\u001b[39m(\u001b[38;5;28mself\u001b[39m, X):\n\u001b[1;32m    884\u001b[0m \u001b[38;5;250m    \u001b[39m\u001b[38;5;124;03m\"\"\"\u001b[39;00m\n\u001b[1;32m    885\u001b[0m \u001b[38;5;124;03m    Predict class for X.\u001b[39;00m\n\u001b[1;32m    886\u001b[0m \n\u001b[0;32m   (...)\u001b[0m\n\u001b[1;32m    902\u001b[0m \u001b[38;5;124;03m        The predicted classes.\u001b[39;00m\n\u001b[1;32m    903\u001b[0m \u001b[38;5;124;03m    \"\"\"\u001b[39;00m\n\u001b[0;32m--> 904\u001b[0m     proba \u001b[38;5;241m=\u001b[39m \u001b[38;5;28;43mself\u001b[39;49m\u001b[38;5;241;43m.\u001b[39;49m\u001b[43mpredict_proba\u001b[49m\u001b[43m(\u001b[49m\u001b[43mX\u001b[49m\u001b[43m)\u001b[49m\n\u001b[1;32m    906\u001b[0m     \u001b[38;5;28;01mif\u001b[39;00m \u001b[38;5;28mself\u001b[39m\u001b[38;5;241m.\u001b[39mn_outputs_ \u001b[38;5;241m==\u001b[39m \u001b[38;5;241m1\u001b[39m:\n\u001b[1;32m    907\u001b[0m         \u001b[38;5;28;01mreturn\u001b[39;00m \u001b[38;5;28mself\u001b[39m\u001b[38;5;241m.\u001b[39mclasses_\u001b[38;5;241m.\u001b[39mtake(np\u001b[38;5;241m.\u001b[39margmax(proba, axis\u001b[38;5;241m=\u001b[39m\u001b[38;5;241m1\u001b[39m), axis\u001b[38;5;241m=\u001b[39m\u001b[38;5;241m0\u001b[39m)\n",
      "File \u001b[0;32m~/College/DataSciML/.venv/lib/python3.11/site-packages/sklearn/ensemble/_forest.py:946\u001b[0m, in \u001b[0;36mForestClassifier.predict_proba\u001b[0;34m(self, X)\u001b[0m\n\u001b[1;32m    944\u001b[0m check_is_fitted(\u001b[38;5;28mself\u001b[39m)\n\u001b[1;32m    945\u001b[0m \u001b[38;5;66;03m# Check data\u001b[39;00m\n\u001b[0;32m--> 946\u001b[0m X \u001b[38;5;241m=\u001b[39m \u001b[38;5;28;43mself\u001b[39;49m\u001b[38;5;241;43m.\u001b[39;49m\u001b[43m_validate_X_predict\u001b[49m\u001b[43m(\u001b[49m\u001b[43mX\u001b[49m\u001b[43m)\u001b[49m\n\u001b[1;32m    948\u001b[0m \u001b[38;5;66;03m# Assign chunk of trees to jobs\u001b[39;00m\n\u001b[1;32m    949\u001b[0m n_jobs, _, _ \u001b[38;5;241m=\u001b[39m _partition_estimators(\u001b[38;5;28mself\u001b[39m\u001b[38;5;241m.\u001b[39mn_estimators, \u001b[38;5;28mself\u001b[39m\u001b[38;5;241m.\u001b[39mn_jobs)\n",
      "File \u001b[0;32m~/College/DataSciML/.venv/lib/python3.11/site-packages/sklearn/ensemble/_forest.py:641\u001b[0m, in \u001b[0;36mBaseForest._validate_X_predict\u001b[0;34m(self, X)\u001b[0m\n\u001b[1;32m    638\u001b[0m \u001b[38;5;28;01melse\u001b[39;00m:\n\u001b[1;32m    639\u001b[0m     force_all_finite \u001b[38;5;241m=\u001b[39m \u001b[38;5;28;01mTrue\u001b[39;00m\n\u001b[0;32m--> 641\u001b[0m X \u001b[38;5;241m=\u001b[39m \u001b[38;5;28;43mself\u001b[39;49m\u001b[38;5;241;43m.\u001b[39;49m\u001b[43m_validate_data\u001b[49m\u001b[43m(\u001b[49m\n\u001b[1;32m    642\u001b[0m \u001b[43m    \u001b[49m\u001b[43mX\u001b[49m\u001b[43m,\u001b[49m\n\u001b[1;32m    643\u001b[0m \u001b[43m    \u001b[49m\u001b[43mdtype\u001b[49m\u001b[38;5;241;43m=\u001b[39;49m\u001b[43mDTYPE\u001b[49m\u001b[43m,\u001b[49m\n\u001b[1;32m    644\u001b[0m \u001b[43m    \u001b[49m\u001b[43maccept_sparse\u001b[49m\u001b[38;5;241;43m=\u001b[39;49m\u001b[38;5;124;43m\"\u001b[39;49m\u001b[38;5;124;43mcsr\u001b[39;49m\u001b[38;5;124;43m\"\u001b[39;49m\u001b[43m,\u001b[49m\n\u001b[1;32m    645\u001b[0m \u001b[43m    \u001b[49m\u001b[43mreset\u001b[49m\u001b[38;5;241;43m=\u001b[39;49m\u001b[38;5;28;43;01mFalse\u001b[39;49;00m\u001b[43m,\u001b[49m\n\u001b[1;32m    646\u001b[0m \u001b[43m    \u001b[49m\u001b[43mforce_all_finite\u001b[49m\u001b[38;5;241;43m=\u001b[39;49m\u001b[43mforce_all_finite\u001b[49m\u001b[43m,\u001b[49m\n\u001b[1;32m    647\u001b[0m \u001b[43m\u001b[49m\u001b[43m)\u001b[49m\n\u001b[1;32m    648\u001b[0m \u001b[38;5;28;01mif\u001b[39;00m issparse(X) \u001b[38;5;129;01mand\u001b[39;00m (X\u001b[38;5;241m.\u001b[39mindices\u001b[38;5;241m.\u001b[39mdtype \u001b[38;5;241m!=\u001b[39m np\u001b[38;5;241m.\u001b[39mintc \u001b[38;5;129;01mor\u001b[39;00m X\u001b[38;5;241m.\u001b[39mindptr\u001b[38;5;241m.\u001b[39mdtype \u001b[38;5;241m!=\u001b[39m np\u001b[38;5;241m.\u001b[39mintc):\n\u001b[1;32m    649\u001b[0m     \u001b[38;5;28;01mraise\u001b[39;00m \u001b[38;5;167;01mValueError\u001b[39;00m(\u001b[38;5;124m\"\u001b[39m\u001b[38;5;124mNo support for np.int64 index based sparse matrices\u001b[39m\u001b[38;5;124m\"\u001b[39m)\n",
      "File \u001b[0;32m~/College/DataSciML/.venv/lib/python3.11/site-packages/sklearn/base.py:633\u001b[0m, in \u001b[0;36mBaseEstimator._validate_data\u001b[0;34m(self, X, y, reset, validate_separately, cast_to_ndarray, **check_params)\u001b[0m\n\u001b[1;32m    631\u001b[0m         out \u001b[38;5;241m=\u001b[39m X, y\n\u001b[1;32m    632\u001b[0m \u001b[38;5;28;01melif\u001b[39;00m \u001b[38;5;129;01mnot\u001b[39;00m no_val_X \u001b[38;5;129;01mand\u001b[39;00m no_val_y:\n\u001b[0;32m--> 633\u001b[0m     out \u001b[38;5;241m=\u001b[39m \u001b[43mcheck_array\u001b[49m\u001b[43m(\u001b[49m\u001b[43mX\u001b[49m\u001b[43m,\u001b[49m\u001b[43m \u001b[49m\u001b[43minput_name\u001b[49m\u001b[38;5;241;43m=\u001b[39;49m\u001b[38;5;124;43m\"\u001b[39;49m\u001b[38;5;124;43mX\u001b[39;49m\u001b[38;5;124;43m\"\u001b[39;49m\u001b[43m,\u001b[49m\u001b[43m \u001b[49m\u001b[38;5;241;43m*\u001b[39;49m\u001b[38;5;241;43m*\u001b[39;49m\u001b[43mcheck_params\u001b[49m\u001b[43m)\u001b[49m\n\u001b[1;32m    634\u001b[0m \u001b[38;5;28;01melif\u001b[39;00m no_val_X \u001b[38;5;129;01mand\u001b[39;00m \u001b[38;5;129;01mnot\u001b[39;00m no_val_y:\n\u001b[1;32m    635\u001b[0m     out \u001b[38;5;241m=\u001b[39m _check_y(y, \u001b[38;5;241m*\u001b[39m\u001b[38;5;241m*\u001b[39mcheck_params)\n",
      "File \u001b[0;32m~/College/DataSciML/.venv/lib/python3.11/site-packages/sklearn/utils/validation.py:1050\u001b[0m, in \u001b[0;36mcheck_array\u001b[0;34m(array, accept_sparse, accept_large_sparse, dtype, order, copy, force_writeable, force_all_finite, ensure_2d, allow_nd, ensure_min_samples, ensure_min_features, estimator, input_name)\u001b[0m\n\u001b[1;32m   1043\u001b[0m         \u001b[38;5;28;01melse\u001b[39;00m:\n\u001b[1;32m   1044\u001b[0m             msg \u001b[38;5;241m=\u001b[39m (\n\u001b[1;32m   1045\u001b[0m                 \u001b[38;5;124mf\u001b[39m\u001b[38;5;124m\"\u001b[39m\u001b[38;5;124mExpected 2D array, got 1D array instead:\u001b[39m\u001b[38;5;130;01m\\n\u001b[39;00m\u001b[38;5;124marray=\u001b[39m\u001b[38;5;132;01m{\u001b[39;00marray\u001b[38;5;132;01m}\u001b[39;00m\u001b[38;5;124m.\u001b[39m\u001b[38;5;130;01m\\n\u001b[39;00m\u001b[38;5;124m\"\u001b[39m\n\u001b[1;32m   1046\u001b[0m                 \u001b[38;5;124m\"\u001b[39m\u001b[38;5;124mReshape your data either using array.reshape(-1, 1) if \u001b[39m\u001b[38;5;124m\"\u001b[39m\n\u001b[1;32m   1047\u001b[0m                 \u001b[38;5;124m\"\u001b[39m\u001b[38;5;124myour data has a single feature or array.reshape(1, -1) \u001b[39m\u001b[38;5;124m\"\u001b[39m\n\u001b[1;32m   1048\u001b[0m                 \u001b[38;5;124m\"\u001b[39m\u001b[38;5;124mif it contains a single sample.\u001b[39m\u001b[38;5;124m\"\u001b[39m\n\u001b[1;32m   1049\u001b[0m             )\n\u001b[0;32m-> 1050\u001b[0m         \u001b[38;5;28;01mraise\u001b[39;00m \u001b[38;5;167;01mValueError\u001b[39;00m(msg)\n\u001b[1;32m   1052\u001b[0m \u001b[38;5;28;01mif\u001b[39;00m dtype_numeric \u001b[38;5;129;01mand\u001b[39;00m \u001b[38;5;28mhasattr\u001b[39m(array\u001b[38;5;241m.\u001b[39mdtype, \u001b[38;5;124m\"\u001b[39m\u001b[38;5;124mkind\u001b[39m\u001b[38;5;124m\"\u001b[39m) \u001b[38;5;129;01mand\u001b[39;00m array\u001b[38;5;241m.\u001b[39mdtype\u001b[38;5;241m.\u001b[39mkind \u001b[38;5;129;01min\u001b[39;00m \u001b[38;5;124m\"\u001b[39m\u001b[38;5;124mUSV\u001b[39m\u001b[38;5;124m\"\u001b[39m:\n\u001b[1;32m   1053\u001b[0m     \u001b[38;5;28;01mraise\u001b[39;00m \u001b[38;5;167;01mValueError\u001b[39;00m(\n\u001b[1;32m   1054\u001b[0m         \u001b[38;5;124m\"\u001b[39m\u001b[38;5;124mdtype=\u001b[39m\u001b[38;5;124m'\u001b[39m\u001b[38;5;124mnumeric\u001b[39m\u001b[38;5;124m'\u001b[39m\u001b[38;5;124m is not compatible with arrays of bytes/strings.\u001b[39m\u001b[38;5;124m\"\u001b[39m\n\u001b[1;32m   1055\u001b[0m         \u001b[38;5;124m\"\u001b[39m\u001b[38;5;124mConvert your data to numeric values explicitly instead.\u001b[39m\u001b[38;5;124m\"\u001b[39m\n\u001b[1;32m   1056\u001b[0m     )\n",
      "\u001b[0;31mValueError\u001b[0m: Expected a 2-dimensional container but got <class 'pandas.core.series.Series'> instead. Pass a DataFrame containing a single row (i.e. single sample) or a single column (i.e. single feature) instead."
     ]
    }
   ],
   "source": [
    "# Make predictions\n",
    "sample_data = pd.Series({\n",
    "    'global_active_power': 1.0,\n",
    "    'global_reactive_power': 0.0,\n",
    "    'voltage': 240.0,\n",
    "    'global_intensity': 4.0,\n",
    "    'sub_metering_1': 0.0,\n",
    "    'sub_metering_2': 1.0,\n",
    "    'sub_metering_3': 1.0,\n",
    "    'year': 2006,\n",
    "    'month': 12,\n",
    "    'day': 16,\n",
    "    'hour': 17,\n",
    "    'day_of_week': 5,\n",
    "    'quarter': 4\n",
    "})\n",
    "\n",
    "# Convert to 2d array\n",
    "sample_data = sample_data.values.reshape(1, -1)\n",
    "\n",
    "# Predict\n",
    "predictions = rf_model.predict(sample_data)\n",
    "print(\"\\nPredictions:\")\n",
    "print(predictions)"
   ]
  }
 ],
 "metadata": {
  "kernelspec": {
   "display_name": ".venv",
   "language": "python",
   "name": "python3"
  },
  "language_info": {
   "codemirror_mode": {
    "name": "ipython",
    "version": 3
   },
   "file_extension": ".py",
   "mimetype": "text/x-python",
   "name": "python",
   "nbconvert_exporter": "python",
   "pygments_lexer": "ipython3",
   "version": "3.11.2"
  }
 },
 "nbformat": 4,
 "nbformat_minor": 2
}
