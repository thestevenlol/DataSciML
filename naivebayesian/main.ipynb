{
 "cells": [
  {
   "cell_type": "markdown",
   "metadata": {},
   "source": [
    "# Changelog - 2nd Attempt\n",
    "\n",
    "## 25/02/2025\n",
    "- Add data processing, convert raw data to csv.\n",
    "- Process data with CountVectoriser\n",
    "- Create MultinomialNB classifier.\n",
    "- Overfit on non-spam classification.\n",
    "- Noticed a lack of spam data vs non-spam data. Trying to even out spam vs non spam for training.\n",
    "- Better results. Non-spam has F-1 score reduced from 0.99 to 0.94"
   ]
  },
  {
   "cell_type": "code",
   "execution_count": 10,
   "metadata": {},
   "outputs": [],
   "source": [
    "\"\"\"\n",
    "Open the SMSSpamCollection file and create a new file with the data in csv format.\n",
    "If the line starts with 'ham' and then a tab, it is not spam, so the first column is 0.\n",
    "If the line starts with 'spam' and then a tab, it is spam, so the first column is 1.\n",
    "The second column is the text of the message.\n",
    "\"\"\"\n",
    "\n",
    "with open('data/SMSSpamCollection', 'r') as raw_data:\n",
    "    lines = raw_data.readlines()\n",
    "\n",
    "    open('data/data.csv', 'w').close()\n",
    "\n",
    "    with open('data/data.csv', 'a') as data: \n",
    "        data.write('spam,text\\n')\n",
    "        for line in lines:\n",
    "            if line.startswith('ham\\t'):\n",
    "                data.write('0,' + line[4:].replace('\\n', '').replace(\",\", \"\") + '\\n')\n",
    "            elif line.startswith('spam\\t'):\n",
    "                data.write('1,' + line[5:].replace('\\n', '').replace(\",\", \"\") + '\\n')\n",
    "            else:\n",
    "                print('Error: ' + line)\n",
    "                break\n",
    "    \n",
    "    with open('data/spammy.txt', 'w') as spammy:\n",
    "        for line in lines:\n",
    "            if line.startswith('spam\\t'):\n",
    "                spammy.write(line[5:].replace('\\n', '') + '\\n')"
   ]
  },
  {
   "cell_type": "markdown",
   "metadata": {},
   "source": [
    "Explore data..."
   ]
  },
  {
   "cell_type": "code",
   "execution_count": 11,
   "metadata": {},
   "outputs": [
    {
     "name": "stdout",
     "output_type": "stream",
     "text": [
      "Total messages: 5572\n",
      "Ham messages: 4825\n",
      "Spam messages: 747\n",
      "Percentage spam: 13.41%\n",
      "\n",
      "Ham examples:\n",
      "0    Go until jurong point crazy.. Available only i...\n",
      "1                        Ok lar... Joking wif u oni...\n",
      "3    U dun say so early hor... U c already then say...\n",
      "Name: text, dtype: object\n",
      "\n",
      "Spam examples:\n",
      "2    Free entry in 2 a wkly comp to win FA Cup fina...\n",
      "5    FreeMsg Hey there darling it's been 3 week's n...\n",
      "8    WINNER!! As a valued network customer you have...\n",
      "Name: text, dtype: object\n"
     ]
    }
   ],
   "source": [
    "import pandas as pd\n",
    "\n",
    "# Load the data\n",
    "df = pd.read_csv('data/data.csv')\n",
    "\n",
    "# Basic exploration\n",
    "print(f\"Total messages: {len(df)}\")\n",
    "print(f\"Ham messages: {len(df[df['spam'] == 0])}\")\n",
    "print(f\"Spam messages: {len(df[df['spam'] == 1])}\")\n",
    "print(f\"Percentage spam: {len(df[df['spam'] == 1])/len(df)*100:.2f}%\")\n",
    "\n",
    "# View some examples\n",
    "print(\"\\nHam examples:\")\n",
    "print(df[df['spam'] == 0]['text'].head(3))\n",
    "print(\"\\nSpam examples:\")\n",
    "print(df[df['spam'] == 1]['text'].head(3))"
   ]
  },
  {
   "cell_type": "code",
   "execution_count": 12,
   "metadata": {},
   "outputs": [],
   "source": [
    "import numpy as np\n",
    "\n",
    "# Get indices of spam and ham messages\n",
    "spam_indices = df[df['spam'] == 1].index\n",
    "ham_indices = df[df['spam'] == 0].index\n",
    "\n",
    "# Randomly sample ham indices to match number of spam messages\n",
    "np.random.seed(46382)  # for reproducibility\n",
    "ham_indices_balanced = np.random.choice(ham_indices, len(spam_indices), replace=False)\n",
    "\n",
    "# Combine spam and balanced ham indices\n",
    "balanced_indices = np.concatenate([spam_indices, ham_indices_balanced])\n",
    "\n",
    "# Create balanced dataset\n",
    "df_balanced = df.loc[balanced_indices]\n",
    "\n",
    "# Create new train-test split with balanced data\n",
    "X = df_balanced['text']\n",
    "y = df_balanced['spam']"
   ]
  },
  {
   "cell_type": "code",
   "execution_count": 13,
   "metadata": {},
   "outputs": [
    {
     "name": "stdout",
     "output_type": "stream",
     "text": [
      "\n",
      "Training set size: 1195\n",
      "Test set size: 299\n",
      "Accuracy: 94.31%\n"
     ]
    }
   ],
   "source": [
    "from sklearn.model_selection import train_test_split\n",
    "from sklearn.feature_extraction.text import CountVectorizer\n",
    "from sklearn.naive_bayes import MultinomialNB\n",
    "\n",
    "vectoriser = CountVectorizer(stop_words='english', lowercase=True)\n",
    "clf = MultinomialNB()\n",
    "\n",
    "# X = df['text']\n",
    "# y = df['spam']\n",
    "\n",
    "X_train, X_test, y_train, y_test = train_test_split(X, y, test_size=0.2, random_state=46382)\n",
    "\n",
    "print(f\"\\nTraining set size: {len(X_train)}\")\n",
    "print(f\"Test set size: {len(X_test)}\")\n",
    "\n",
    "X_train = vectoriser.fit_transform(X_train)\n",
    "X_test = vectoriser.transform(X_test)\n",
    "\n",
    "clf = MultinomialNB()\n",
    "clf.fit(X_train, y_train)\n",
    "\n",
    "\n",
    "y_pred = clf.predict(X_test)\n",
    "print(f\"Accuracy: {clf.score(X_test, y_test)*100:.2f}%\")\n"
   ]
  },
  {
   "cell_type": "code",
   "execution_count": 14,
   "metadata": {},
   "outputs": [
    {
     "name": "stdout",
     "output_type": "stream",
     "text": [
      "\n",
      "Classification Report:\n",
      "              precision    recall  f1-score   support\n",
      "\n",
      "           0       0.96      0.93      0.94       154\n",
      "           1       0.93      0.96      0.94       145\n",
      "\n",
      "    accuracy                           0.94       299\n",
      "   macro avg       0.94      0.94      0.94       299\n",
      "weighted avg       0.94      0.94      0.94       299\n",
      "\n"
     ]
    },
    {
     "data": {
      "image/png": "[encoded data removed]",
      "text/plain": [
       "<Figure size 800x600 with 2 Axes>"
      ]
     },
     "metadata": {},
     "output_type": "display_data"
    }
   ],
   "source": [
    "from sklearn.metrics import classification_report, confusion_matrix\n",
    "import seaborn as sns\n",
    "import matplotlib.pyplot as plt\n",
    "\n",
    "\n",
    "y_pred = clf.predict(X_test)\n",
    "\n",
    "# Print evaluation metrics\n",
    "print(\"\\nClassification Report:\")\n",
    "print(classification_report(y_test, y_pred))\n",
    "\n",
    "# Create confusion matrix\n",
    "cm = confusion_matrix(y_test, y_pred)\n",
    "plt.figure(figsize=(8, 6))\n",
    "sns.heatmap(cm, annot=True, fmt='d', cmap='Blues', \n",
    "            xticklabels=['Ham', 'Spam'], \n",
    "            yticklabels=['Ham', 'Spam'])\n",
    "plt.ylabel('Actual')\n",
    "plt.xlabel('Predicted')\n",
    "plt.title('Confusion Matrix')\n",
    "plt.show()"
   ]
  },
  {
   "cell_type": "code",
   "execution_count": 15,
   "metadata": {},
   "outputs": [
    {
     "data": {
      "application/vnd.microsoft.datawrangler.viewer.v0+json": {
       "columns": [
        {
         "name": "index",
         "rawType": "int64",
         "type": "integer"
        },
        {
         "name": "text",
         "rawType": "object",
         "type": "string"
        }
       ],
       "conversionMethod": "pd.DataFrame",
       "ref": "4a310536-3bfe-4d75-b3af-152d9fd63042",
       "rows": [
        [
         "0",
         "Hi I'm Alice looking for some men tonight. Reply for some fun!"
        ],
        [
         "1",
         "Free entry in our weekly prize draw! Text WIN to 81122 to enter. T&Cs apply."
        ],
        [
         "2",
         "FreeMsg: You've been chosen to receive a new iPhone! Click here to claim: tinyurl.com/yx87mzqp"
        ],
        [
         "3",
         "WIN £500 cash! Simply reply with the word MONEY to this number."
        ],
        [
         "4",
         "Urgent! Your Amazon account has been compromised. Verify your details: amazonsupport.securelogin.net"
        ]
       ],
       "shape": {
        "columns": 1,
        "rows": 5
       }
      },
      "text/html": [
       "<div>\n",
       "<style scoped>\n",
       "    .dataframe tbody tr th:only-of-type {\n",
       "        vertical-align: middle;\n",
       "    }\n",
       "\n",
       "    .dataframe tbody tr th {\n",
       "        vertical-align: top;\n",
       "    }\n",
       "\n",
       "    .dataframe thead th {\n",
       "        text-align: right;\n",
       "    }\n",
       "</style>\n",
       "<table border=\"1\" class=\"dataframe\">\n",
       "  <thead>\n",
       "    <tr style=\"text-align: right;\">\n",
       "      <th></th>\n",
       "      <th>text</th>\n",
       "    </tr>\n",
       "  </thead>\n",
       "  <tbody>\n",
       "    <tr>\n",
       "      <th>0</th>\n",
       "      <td>Hi I'm Alice looking for some men tonight. Rep...</td>\n",
       "    </tr>\n",
       "    <tr>\n",
       "      <th>1</th>\n",
       "      <td>Free entry in our weekly prize draw! Text WIN ...</td>\n",
       "    </tr>\n",
       "    <tr>\n",
       "      <th>2</th>\n",
       "      <td>FreeMsg: You've been chosen to receive a new i...</td>\n",
       "    </tr>\n",
       "    <tr>\n",
       "      <th>3</th>\n",
       "      <td>WIN £500 cash! Simply reply with the word MONE...</td>\n",
       "    </tr>\n",
       "    <tr>\n",
       "      <th>4</th>\n",
       "      <td>Urgent! Your Amazon account has been compromis...</td>\n",
       "    </tr>\n",
       "  </tbody>\n",
       "</table>\n",
       "</div>"
      ],
      "text/plain": [
       "                                                text\n",
       "0  Hi I'm Alice looking for some men tonight. Rep...\n",
       "1  Free entry in our weekly prize draw! Text WIN ...\n",
       "2  FreeMsg: You've been chosen to receive a new i...\n",
       "3  WIN £500 cash! Simply reply with the word MONE...\n",
       "4  Urgent! Your Amazon account has been compromis..."
      ]
     },
     "execution_count": 15,
     "metadata": {},
     "output_type": "execute_result"
    }
   ],
   "source": [
    "# Add new messages to the dataset\n",
    "\n",
    "with open('data/extraspam.csv', 'r') as f:\n",
    "    lines = f.readlines()\n",
    "\n",
    "    open('data/cleaned_extraspam.csv', 'w').close()\n",
    "\n",
    "    with open('data/cleaned_extraspam.csv', 'a') as cleaned_f:\n",
    "        cleaned_f.write('text\\n')\n",
    "        for line in lines:\n",
    "            line = line[line.find(',') + 1:]\n",
    "            cleaned_f.write(line.replace('\\n', '').replace(',', '') + '\\n')\n",
    "\n",
    "cleaned_df = pd.read_csv('data/cleaned_extraspam.csv')\n",
    "cleaned_df.head()"
   ]
  }
 ],
 "metadata": {
  "kernelspec": {
   "display_name": ".venv",
   "language": "python",
   "name": "python3"
  },
  "language_info": {
   "codemirror_mode": {
    "name": "ipython",
    "version": 3
   },
   "file_extension": ".py",
   "mimetype": "text/x-python",
   "name": "python",
   "nbconvert_exporter": "python",
   "pygments_lexer": "ipython3",
   "version": "3.11.2"
  }
 },
 "nbformat": 4,
 "nbformat_minor": 2
}
