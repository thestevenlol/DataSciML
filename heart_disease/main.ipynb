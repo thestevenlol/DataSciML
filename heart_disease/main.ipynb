{
 "cells": [
  {
   "cell_type": "markdown",
   "metadata": {},
   "source": [
    "# Heart Disease Prediction\n",
    "\n",
    "## Disclaimer\n",
    "\n",
    "AI (ChatGPT) was user to help write this project, for both code and documentation. Any code generated has been studied, and any documentation has been verified.\n",
    "\n",
    "## Dataset\n",
    "\n",
    "\"This dataset contains 1,888 records merged from five publicly available heart disease datasets. It includes 14 features that are crucial for predicting heart attack and stroke risks, covering both medical and demographic factors. Below is a detailed description of each feature.\" Source: Kaggle.\n",
    "\n",
    "Dataset Source: https://www.kaggle.com/datasets/mfarhaannazirkhan/heart-dataset?resource=download&select=raw_merged_heart_dataset.csv  \n",
    "The dataset is taken from Kaggle, but luckily there was a raw, uncleaned version of the dataset available. This is the dataset that is being used in this project. The dataset contains numerous columns, fourteen to be exact. They are as follows:\n",
    "\n",
    "- **age**: Age of the patient (Numeric).\n",
    "- **sex**: Gender of the patient. Values: \n",
    "  - 1 = male\n",
    "  - 0 = female\n",
    "- **cp**: Chest pain type. Values:\n",
    "  - 0 = Typical angina\n",
    "  - 1 = Atypical angina\n",
    "  - 2 = Non-anginal pain\n",
    "  - 3 = Asymptomatic\n",
    "- **trestbps**: Resting Blood Pressure (in mm Hg) (Numeric).\n",
    "- **chol**: Serum Cholesterol level (in mg/dl) (Numeric).\n",
    "- **fbs**: Fasting blood sugar > 120 mg/dl. Values:\n",
    "  - 1 = true\n",
    "  - 0 = false\n",
    "- **restecg**: Resting electrocardiographic results. Values:\n",
    "  - 0 = Normal\n",
    "  - 1 = ST-T wave abnormality\n",
    "  - 2 = Left ventricular hypertrophy\n",
    "- **thalach**: Maximum heart rate achieved (Numeric).\n",
    "- **exang**: Exercise-induced angina. Values:\n",
    "  - 1 = yes\n",
    "  - 0 = no\n",
    "- **oldpeak**: ST depression induced by exercise relative to rest (Numeric).\n",
    "- **slope**: Slope of the peak exercise ST segment. Values:\n",
    "  - 0 = Upsloping\n",
    "  - 1 = Flat\n",
    "  - 2 = Downsloping\n",
    "- **ca**: Number of major vessels (0-3) colored by fluoroscopy. Values:\n",
    "  - 0, 1, 2, 3\n",
    "- **thal**: Thalassemia types. Values:\n",
    "  - 1 = Normal\n",
    "  - 2 = Fixed defect\n",
    "  - 3 = Reversible defect\n",
    "- **target**: Outcome variable (heart attack risk). Values:\n",
    "  - 1 = more chance of heart attack\n",
    "  - 0 = less chance of heart attack\n",
    "\n",
    "\n",
    "Here are some definitions to help understand the dataset:\n",
    "\n",
    "- **Angina**: Chest pain or discomfort due to reduced blood flow to the heart muscle.\n",
    "\n",
    "- **Electrocardiographic**: Related to electrocardiography, a test that records the electrical activity of the heart.\n",
    "\n",
    "- **Thalassemia**: A group of inherited blood disorders characterized by abnormal hemoglobin production, leading to anemia.\n",
    "\n",
    "- **Fluoroscopy**: A medical imaging technique that provides real-time X-ray images, often used to observe the movement of internal organs or guide procedures.\n",
    "\n",
    "- **ST Segment**: A portion of the electrocardiogram (ECG) tracing that represents the interval between ventricular depolarization and repolarization; abnormalities can indicate heart issues.\n",
    "\n",
    "- **Ventricular Hypertrophy**: Thickening of the walls of the heart's ventricles, which can result from high blood pressure or other heart conditions.\n",
    "\n",
    "- **Ischemia**: A condition characterized by reduced blood flow to a part of the body, often leading to oxygen deprivation in tissues.\n",
    "\n",
    "\n",
    "\n"
   ]
  },
  {
   "cell_type": "code",
   "execution_count": 1,
   "metadata": {},
   "outputs": [
    {
     "name": "stdout",
     "output_type": "stream",
     "text": [
      "----- Description -----\n",
      "               age          sex           cp      oldpeak       target\n",
      "count  2181.000000  2181.000000  2181.000000  2181.000000  2181.000000\n",
      "mean     53.477762     0.693260     1.507565     0.990509     0.496103\n",
      "std       9.194787     0.461246     1.371587     1.141851     0.500099\n",
      "min      28.000000     0.000000     0.000000     0.000000     0.000000\n",
      "25%      46.000000     0.000000     0.000000     0.000000     0.000000\n",
      "50%      54.000000     1.000000     2.000000     0.600000     0.000000\n",
      "75%      60.000000     1.000000     2.000000     1.600000     1.000000\n",
      "max      77.000000     1.000000     4.000000     6.200000     1.000000\n",
      "\n",
      "----- Shape -----\n",
      "(2181, 14)\n",
      "\n",
      "----- Columns -----\n",
      "Index(['age', 'sex', 'cp', 'trestbps', 'chol', 'fbs', 'restecg', 'thalachh',\n",
      "       'exang', 'oldpeak', 'slope', 'ca', 'thal', 'target'],\n",
      "      dtype='object')\n",
      "\n",
      "----- Null Values -----\n",
      "age         0\n",
      "sex         0\n",
      "cp          0\n",
      "trestbps    0\n",
      "chol        0\n",
      "fbs         0\n",
      "restecg     0\n",
      "thalachh    0\n",
      "exang       0\n",
      "oldpeak     0\n",
      "slope       0\n",
      "ca          0\n",
      "thal        0\n",
      "target      0\n",
      "dtype: int64\n",
      "\n"
     ]
    }
   ],
   "source": [
    "import pandas as pd\n",
    "\n",
    "# Loading the dataset\n",
    "df = pd.read_csv('../datasets/raw_merged_heart_dataset.csv')\n",
    "\n",
    "# Various statistics of the dataset\n",
    "description = df.describe()\n",
    "shape = df.shape\n",
    "columns = df.columns\n",
    "null_values = df.isnull().sum()\n",
    "\n",
    "# # Displaying the statistics\n",
    "print(f'----- Description -----\\n{description}\\n')\n",
    "print(f'----- Shape -----\\n{shape}\\n')\n",
    "print(f'----- Columns -----\\n{columns}\\n')\n",
    "print(f'----- Null Values -----\\n{null_values}\\n')\n"
   ]
  },
  {
   "cell_type": "markdown",
   "metadata": {},
   "source": [
    "## Data Cleaning\n",
    " \n",
    "In order to make sure the model is accurate we have to work with clean data. This includes, but is not limited to:\n",
    "\n",
    "1. Removing NaN, null or empty rows\n",
    "2. Removing outliers using Z-score"
   ]
  },
  {
   "cell_type": "code",
   "execution_count": 2,
   "metadata": {},
   "outputs": [
    {
     "name": "stdout",
     "output_type": "stream",
     "text": [
      "Number of rows dropped: 293\n"
     ]
    }
   ],
   "source": [
    "rows_before = df.shape[0]\n",
    "# Removing the rows with missing values\n",
    "df = df.dropna()\n",
    "\n",
    "# Removing rows where any column has a '?' value instead of a number\n",
    "df = df[(df != '?').all(axis=1)]\n",
    "\n",
    "rows_after = df.shape[0]\n",
    "rows_dropped = rows_before - rows_after\n",
    "print(f'Number of rows dropped: {rows_dropped}')"
   ]
  },
  {
   "cell_type": "markdown",
   "metadata": {},
   "source": [
    "## Finding Outliers\n",
    "\n",
    "Next I want to see if there is any major outliers in the dataset. This can be done by calculating the Z-score for each element, and if it is beyond a certain threshold it should be removed. The Z-score tells us the element's deviation from the mean."
   ]
  },
  {
   "cell_type": "code",
   "execution_count": 3,
   "metadata": {},
   "outputs": [
    {
     "name": "stdout",
     "output_type": "stream",
     "text": [
      "Number of rows removed: 13\n"
     ]
    }
   ],
   "source": [
    "from scipy.stats import zscore\n",
    "\n",
    "# Calculate Z-scores for each numeric column\n",
    "numeric_cols = df.select_dtypes(include=['float64', 'int64']).columns\n",
    "z_scores = df[numeric_cols].apply(zscore)\n",
    "\n",
    "# Filter the dataframe to remove rows where any Z-score is beyond |3|\n",
    "filtered_df = df[(z_scores.abs() <= 3).all(axis=1)]\n",
    "\n",
    "removed_counts = df.shape[0] - filtered_df.shape[0]\n",
    "print(f'Number of rows removed: {removed_counts}')"
   ]
  },
  {
   "cell_type": "markdown",
   "metadata": {},
   "source": []
  },
  {
   "cell_type": "code",
   "execution_count": 7,
   "metadata": {},
   "outputs": [
    {
     "name": "stdout",
     "output_type": "stream",
     "text": [
      "\n",
      "Classification Metrics:\n",
      "------------------------------\n",
      "Accuracy:    0.9413\n",
      "Precision:   0.9417\n",
      "Recall:      0.9510\n",
      "F1 Score:    0.9463\n",
      "Specificity: 0.9298\n",
      "\n",
      "Confusion Matrix Details:\n",
      "------------------------------\n",
      "True Negatives:  159\n",
      "False Positives: 12\n",
      "False Negatives: 10\n",
      "True Positives:  194\n"
     ]
    }
   ],
   "source": [
    "from sklearn.model_selection import train_test_split\n",
    "from sklearn.tree import DecisionTreeClassifier\n",
    "from sklearn.metrics import accuracy_score, classification_report, confusion_matrix\n",
    "\n",
    "# Split the dataset into features and target variable\n",
    "X = filtered_df.drop('target', axis=1)\n",
    "y = filtered_df['target']\n",
    "\n",
    "# Split the dataset into training and testing sets\n",
    "X_train, X_test, y_train, y_test = train_test_split(X, y, test_size=0.2, random_state=9123091)\n",
    "\n",
    "# Initialize the Decision Tree Classifier\n",
    "clf = DecisionTreeClassifier(random_state=798219)\n",
    "\n",
    "# Train the model\n",
    "clf.fit(X_train, y_train)\n",
    "\n",
    "# Make predictions\n",
    "y_pred = clf.predict(X_test)\n",
    "\n",
    "# Evaluate the model\n",
    "cm = confusion_matrix(y_test, y_pred)\n",
    "\n",
    "def calculate_precision(tp, fp):\n",
    "    \"\"\"Calculate precision: TP / (TP + FP)\"\"\"\n",
    "    return tp / (tp + fp) if (tp + fp) > 0 else 0\n",
    "\n",
    "def calculate_recall(tp, fn):\n",
    "    \"\"\"Calculate recall: TP / (TP + FN)\"\"\"\n",
    "    return tp / (tp + fn) if (tp + fn) > 0 else 0\n",
    "\n",
    "def calculate_f1(precision, recall):\n",
    "    \"\"\"Calculate F1 score: 2 * (Precision * Recall) / (Precision + Recall)\"\"\"\n",
    "    return 2 * (precision * recall) / (precision + recall) if (precision + recall) > 0 else 0\n",
    "\n",
    "def calculate_specificity(tn, fp):\n",
    "    \"\"\"Calculate specificity: TN / (TN + FP)\"\"\"\n",
    "    return tn / (tn + fp) if (tn + fp) > 0 else 0\n",
    "\n",
    "def calculate_accuracy(tp, tn, fp, fn):\n",
    "    \"\"\"Calculate accuracy: (TP + TN) / (TP + TN + FP + FN)\"\"\"\n",
    "    return (tp + tn) / (tp + tn + fp + fn) if (tp + tn + fp + fn) > 0 else 0\n",
    "\n",
    "def display_classification_metrics(cm):\n",
    "    \"\"\"Calculate and display all classification metrics\"\"\"\n",
    "    # Extract values from confusion matrix\n",
    "    tn, fp = cm[0][0], cm[0][1]\n",
    "    fn, tp = cm[1][0], cm[1][1]\n",
    "    \n",
    "    # Calculate metrics\n",
    "    precision = calculate_precision(tp, fp)\n",
    "    recall = calculate_recall(tp, fn)\n",
    "    f1 = calculate_f1(precision, recall)\n",
    "    specificity = calculate_specificity(tn, fp)\n",
    "    accuracy = calculate_accuracy(tp, tn, fp, fn)\n",
    "    \n",
    "    # Display results\n",
    "    print(\"\\nClassification Metrics:\")\n",
    "    print(\"-\" * 30)\n",
    "    print(f\"Accuracy:    {accuracy:.4f}\")\n",
    "    print(f\"Precision:   {precision:.4f}\")\n",
    "    print(f\"Recall:      {recall:.4f}\")\n",
    "    print(f\"F1 Score:    {f1:.4f}\")\n",
    "    print(f\"Specificity: {specificity:.4f}\")\n",
    "    \n",
    "    # Display confusion matrix values\n",
    "    print(\"\\nConfusion Matrix Details:\")\n",
    "    print(\"-\" * 30)\n",
    "    print(f\"True Negatives:  {tn}\")\n",
    "    print(f\"False Positives: {fp}\")\n",
    "    print(f\"False Negatives: {fn}\")\n",
    "    print(f\"True Positives:  {tp}\")\n",
    "\n",
    "# Calculate and display metrics using existing confusion matrix\n",
    "display_classification_metrics(cm)"
   ]
  },
  {
   "cell_type": "markdown",
   "metadata": {},
   "source": [
    "## Predictions\n",
    "\n",
    "I have created categorical mappings to help with the output of a prediction."
   ]
  },
  {
   "cell_type": "code",
   "execution_count": 5,
   "metadata": {},
   "outputs": [
    {
     "data": {
      "image/png": "[encoded data removed]",
      "text/plain": [
       "<Figure size 1000x700 with 2 Axes>"
      ]
     },
     "metadata": {},
     "output_type": "display_data"
    }
   ],
   "source": [
    "from sklearn.metrics import confusion_matrix\n",
    "import seaborn as sns\n",
    "\n",
    "import matplotlib.pyplot as plt\n",
    "\n",
    "# Generate the confusion matrix\n",
    "cm = confusion_matrix(y_test, y_pred)\n",
    "\n",
    "# Plot the confusion matrix\n",
    "plt.figure(figsize=(10, 7))\n",
    "sns.heatmap(cm, annot=True, fmt='d', cmap='Blues', xticklabels=['Less Chance', 'More Chance'], yticklabels=['Less Chance', 'More Chance'])\n",
    "plt.xlabel('Predicted')\n",
    "plt.ylabel('Actual')\n",
    "plt.title('Confusion Matrix')\n",
    "plt.show()"
   ]
  }
 ],
 "metadata": {
  "kernelspec": {
   "display_name": ".venv",
   "language": "python",
   "name": "python3"
  },
  "language_info": {
   "codemirror_mode": {
    "name": "ipython",
    "version": 3
   },
   "file_extension": ".py",
   "mimetype": "text/x-python",
   "name": "python",
   "nbconvert_exporter": "python",
   "pygments_lexer": "ipython3",
   "version": "3.11.2"
  }
 },
 "nbformat": 4,
 "nbformat_minor": 2
}
